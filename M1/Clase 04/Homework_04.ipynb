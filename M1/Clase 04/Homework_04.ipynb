{
 "cells": [
  {
   "cell_type": "markdown",
   "metadata": {},
   "source": [
    "# Práctica Clase 4"
   ]
  },
  {
   "cell_type": "code",
   "execution_count": 38,
   "metadata": {},
   "outputs": [],
   "source": [
    "import pandas as pd\n",
    "import numpy as np\n",
    "\n",
    "def Ret_Pregunta09():\n",
    "    '''\n",
    "    Debes utilizar Pandas para ingestar en un objeto Dataframe el contenido del archivo provisto\n",
    "    \"datasets/Tabla1_ejercicio.csv\" y \"datasets/Tabla2_ejercicio.csv\".\n",
    "    Esta función debe retornar: score_promedio_femenino y score_promedio_masculino en formato tupla, teniendo en cuenta que no debe haber registros repetidos.\n",
    "    '''\n",
    "    #Tu código aca:\n",
    "    df91 = pd.read_csv('Tabla1_ejercicio.csv', delimiter = ';', encoding='utf-8')\n",
    "    df91.drop_duplicates(inplace = True)\n",
    "    df92 = pd.read_csv('Tabla2_ejercicio.csv', delimiter = ';',encoding='utf-8')\n",
    "    df91.drop_duplicates(inplace = True)   \n",
    "    '''\n",
    "    df9Pers = df92.values\n",
    "    df9Pers = df9Pers[:,0]\n",
    "    for elemento in df9Pers:\n",
    "        sexodf1 = ((df91.loc[df91['pers_id'] == elemento,'sexo']).values[0])\n",
    "        df92.loc[df92['pers_id'] == elemento,'Sexo'] = sexodf1\n",
    "    df92f = df92.loc[df92['Sexo'] == 'F']\n",
    "    df92m = df92.loc[df92['Sexo'] == 'M']\n",
    "    dff = df92f.mean()\n",
    "    dfm = df92m.mean()\n",
    "    dff = round(float(dff[2]),2)\n",
    "    dfm = round(float(dfm[2]),2)\n",
    "    tupla = (dff, dfm)\n",
    "    return tupla\n",
    "    '''\n",
    "    lista = [df91, df92]\n",
    "    df9 = pd.merge(lista)\n",
    "    print(df9.shape)\n",
    "    # print(df9.columns)\n",
    "    print(df9.tail(100))"
   ]
  },
  {
   "cell_type": "code",
   "execution_count": null,
   "metadata": {},
   "outputs": [],
   "source": [
    "print(Ret_Pregunta09())"
   ]
  }
 ],
 "metadata": {
  "kernelspec": {
   "display_name": "base",
   "language": "python",
   "name": "python3"
  },
  "language_info": {
   "codemirror_mode": {
    "name": "ipython",
    "version": 3
   },
   "file_extension": ".py",
   "mimetype": "text/x-python",
   "name": "python",
   "nbconvert_exporter": "python",
   "pygments_lexer": "ipython3",
   "version": "3.9.12"
  },
  "toc": {
   "base_numbering": 1,
   "nav_menu": {},
   "number_sections": false,
   "sideBar": false,
   "skip_h1_title": false,
   "title_cell": "Table of Contents",
   "title_sidebar": "Contents",
   "toc_cell": false,
   "toc_position": {},
   "toc_section_display": false,
   "toc_window_display": false
  },
  "vscode": {
   "interpreter": {
    "hash": "c535bb3247b52e19c60266d6d21e8936de906900d582b8f04b76ce563c6653ef"
   }
  }
 },
 "nbformat": 4,
 "nbformat_minor": 4
}

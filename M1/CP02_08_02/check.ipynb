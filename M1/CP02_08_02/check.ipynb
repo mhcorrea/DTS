{
 "cells": [
  {
   "cell_type": "code",
   "execution_count": 162,
   "metadata": {},
   "outputs": [],
   "source": [
    "import pandas as pd\n",
    "import numpy as np\n",
    "\n",
    "def Ret_Pregunta01():\n",
    "    '''\n",
    "    Debes utilizar Pandas para ingestar en un objeto Dataframe el contenido del archivo provisto\n",
    "    \"Fuentes_Consumo_Energia.csv\".\n",
    "    Esta función debe informar la cantidad de registros cuya entidad sea Argentina retornando ese valor en un dato de tipo entero.\n",
    "    Pista averiguar la función Shape\n",
    "    '''\n",
    "    #Tu código aca:\n",
    "    df1 = pd.read_csv('datasets\\Fuentes_Consumo_Energia.csv',encoding='utf-8')\n",
    "    '''\n",
    "    argentina = pd.Series(elemento for elemento in df1['Entity'])\n",
    "    mask = argentina == 'Argentina'\n",
    "    return argentina[mask].count()\n",
    "    '''\n",
    "    return df1[df1['Entity'] =='Argentina'].count()['Entity']"
   ]
  },
  {
   "cell_type": "code",
   "execution_count": 163,
   "metadata": {},
   "outputs": [
    {
     "name": "stdout",
     "output_type": "stream",
     "text": [
      "55\n"
     ]
    }
   ],
   "source": [
    "print(Ret_Pregunta01())"
   ]
  },
  {
   "cell_type": "code",
   "execution_count": 73,
   "metadata": {},
   "outputs": [],
   "source": [
    "def Ret_Pregunta02():\n",
    "    '''\n",
    "    Debes utilizar Pandas para ingestar en un objeto Dataframe el contenido del archivo provisto\n",
    "    \"Fuentes_Consumo_Energia.csv\".\n",
    "    Esta función debe eliminar las columnas 'Code' y 'Entity' y luego informar la cantidad de columnas\n",
    "    retornando ese valor en un dato de tipo entero.\n",
    "    '''\n",
    "    #Tu código aca:\n",
    "    df2 = pd.read_csv('datasets\\Fuentes_Consumo_Energia.csv',encoding='utf-8')\n",
    "    '''\n",
    "    df22 = df2.drop(columns = ['Code','Entity'], axis=1)\n",
    "    return len(df22.columns)\n",
    "    '''\n",
    "    return df2.drop(columns = ['Code','Entity'], axis = 1).count(axis = 1)[0]"
   ]
  },
  {
   "cell_type": "code",
   "execution_count": 74,
   "metadata": {},
   "outputs": [
    {
     "name": "stdout",
     "output_type": "stream",
     "text": [
      "9\n"
     ]
    }
   ],
   "source": [
    "print(Ret_Pregunta02())"
   ]
  },
  {
   "cell_type": "code",
   "execution_count": 75,
   "metadata": {},
   "outputs": [],
   "source": [
    "def Ret_Pregunta03():\n",
    "    '''\n",
    "    Debes utilizar Pandas para ingestar en un objeto Dataframe el contenido del archivo provisto\n",
    "    \"Fuentes_Consumo_Energia.csv\".\n",
    "    Esta función debe informar la cantidad de registros, sin tener en cuenta aquellos con valores faltantes, para el campo 'Code' \n",
    "    y retornando ese valor en un dato de tipo entero.\n",
    "    '''\n",
    "    #Tu código aca:\n",
    "    df3 = pd.read_csv('datasets\\Fuentes_Consumo_Energia.csv',encoding='utf-8')\n",
    "    '''\n",
    "    df33 = df3.dropna(subset=['Code'])\n",
    "    print(len(df33.index))\n",
    "    '''\n",
    "    return df3.dropna(subset = ['Code']).count()['Code']"
   ]
  },
  {
   "cell_type": "code",
   "execution_count": 76,
   "metadata": {},
   "outputs": [
    {
     "name": "stdout",
     "output_type": "stream",
     "text": [
      "4145\n"
     ]
    }
   ],
   "source": [
    "print(Ret_Pregunta03())"
   ]
  },
  {
   "cell_type": "code",
   "execution_count": 262,
   "metadata": {},
   "outputs": [],
   "source": [
    "def Ret_Pregunta04():\n",
    "    '''\n",
    "    Debes utilizar Pandas para ingestar en un objeto Dataframe el contenido del archivo provisto\n",
    "    \"Fuentes_Consumo_Energia.csv\".\n",
    "    El ExaJulio es una unidad diferent al TWh, es decir, no tiene sentido sumarlos o\n",
    "    buscar proporciones entre ellos. \n",
    "    La fórmula de conversión es: 277.778 Teravatios/Hora (TWh) = 1 Exajulio\n",
    "    Los campos terminados en \"_EJ\" corresponden a mediciones en Exajulios,\n",
    "    y los terminados en \"_TWh\" corresponden a Teravatios/Hora.\n",
    "    La consigna es crear un nuevo campo, que se denomine \"Consumo_Total\"\n",
    "    y que guarde la sumatoria de todos los consumos expresados en Teravatios/Hora\n",
    "    (convirtiendo a esta medida los que están en Exajulios).\n",
    "    Esta función debe informar el consumo total para la entidad 'World' y año '2019',\n",
    "    redondeado a 2 decimales, retornando ese valor en un dato de tipo float.\n",
    "    '''\n",
    "    #Tu código aca:\n",
    "    df4 = pd.read_csv('datasets\\Fuentes_Consumo_Energia.csv',encoding='utf-8')\n",
    "    '''\n",
    "    df41 = df4[(df4['Entity'] == 'World') & (df4['Year'] == 2019)]\n",
    "    print(round(((df41.iloc[0,3]+df41.iloc[0,4]+df41.iloc[0,10])*277.778+df41.iloc[0,5]+df41.iloc[0,6]+df41.iloc[0,7]+df41.iloc[0,8]+df41.iloc[0,9]),2))\n",
    "    '''\n",
    "    df41 = df4[(df4['Entity'] == 'World') & (df4['Year'] == 2019)]"
   ]
  },
  {
   "cell_type": "code",
   "execution_count": null,
   "metadata": {},
   "outputs": [],
   "source": [
    "print(Ret_Pregunta04())"
   ]
  },
  {
   "cell_type": "code",
   "execution_count": 228,
   "metadata": {},
   "outputs": [],
   "source": [
    "def Ret_Pregunta05():\n",
    "    '''\n",
    "    Debes utilizar Pandas para ingestar en un objeto Dataframe el contenido del archivo provisto\n",
    "    \"Fuentes_Consumo_Energia.csv\".\n",
    "    Esta función debe informar el año de mayor generación de energía solar (Solar_Generation_TWh)\n",
    "    para la entidad 'Europe' retornando ese valor en un dato de tipo entero.\n",
    "    '''\n",
    "    #Tu código aca:\n",
    "    df5 = pd.read_csv('datasets\\Fuentes_Consumo_Energia.csv',encoding='utf-8')\n",
    "    '''\n",
    "    df51 = df5[df5.Entity == 'Europe']\n",
    "    registro = df51.loc[df51.Solar_Generation_TWh.idxmax()]\n",
    "    return (registro['Year'])\n",
    "    '''\n",
    "    df51 = df5[df5.Entity == 'Europe']\n",
    "    return df51.loc[df51.Solar_Generation_TWh.idxmax()]['Year']\n"
   ]
  },
  {
   "cell_type": "code",
   "execution_count": 229,
   "metadata": {},
   "outputs": [
    {
     "name": "stdout",
     "output_type": "stream",
     "text": [
      "2019\n"
     ]
    }
   ],
   "source": [
    "print(Ret_Pregunta05())"
   ]
  },
  {
   "cell_type": "code",
   "execution_count": 301,
   "metadata": {},
   "outputs": [],
   "source": [
    "def Ret_Pregunta06(m1, m2):\n",
    "    '''\n",
    "    Esta función recibe dos arrays de Numpy, de 2 dimensiones cada uno y devuelve el valor booleano True si es posible realizar una multiplicación entre ambas matrices,\n",
    "    y el valor booleano False si no lo es.\n",
    "    Ej:\n",
    "        n1 = np.array([[0,0,0],[1,1,1],[2,2,2]])\n",
    "        n2 = np.array([[3,3],[4,4],[5,5]])\n",
    "        print(Ret_Pregunta06(n1,n2))\n",
    "            True            -> Valor devuelto por la función en este ejemplo\n",
    "        print(Ret_Pregunta06(n2,n1))\n",
    "            False            -> Valor devuelto por la función en este ejemplo\n",
    "    '''\n",
    "    #Tu código aca:\n",
    "    if ((m1.shape[0] == m2.shape[1]) or (m1.shape[1] == m2.shape[0])):  return True\n",
    "    else: return False\n",
    "    #return 'Funcion incompleta'"
   ]
  },
  {
   "cell_type": "code",
   "execution_count": 302,
   "metadata": {},
   "outputs": [
    {
     "name": "stdout",
     "output_type": "stream",
     "text": [
      "True\n"
     ]
    }
   ],
   "source": [
    "n1 = np.array([[0,0,0],[1,1,1],[2,2,2]])\n",
    "n2 = np.array([[3,3],[4,4],[5,5]])\n",
    "print(Ret_Pregunta06(n1, n2))"
   ]
  },
  {
   "cell_type": "code",
   "execution_count": 439,
   "metadata": {},
   "outputs": [],
   "source": [
    "def Ret_Pregunta07():\n",
    "    '''\n",
    "    Debes utilizar Pandas para ingestar en un objeto Dataframe el contenido del archivo provisto\n",
    "    \"Fuentes_Consumo_Energia.csv\".\n",
    "    Esta función debe informar cuál de la siguiente lista de países tuvo mayor generación de\n",
    "    energía solar (Solar_Generation_TWh) en el año 2019:\n",
    "        * Argentina\n",
    "        * Brazil\n",
    "        * Chile\n",
    "        * Colombia\n",
    "        * Ecuador\n",
    "        * Mexico\n",
    "        * Peru\n",
    "    Debe retornar el valor en un dato de tipo string.\n",
    "    '''\n",
    "    #Tu código aca:\n",
    "    df7 = pd.read_csv('datasets\\Fuentes_Consumo_Energia.csv',encoding='utf-8')\n",
    "    df71 = df7[(df7.Year == 2019)].reset_index(drop = True)\n",
    "    lista = ['Argentina','Brazil','Chile','Colombia','Ecuador','Mexico','Peru']\n",
    "    solar = []\n",
    "    for n in lista:\n",
    "        solar.append([n , float(df71.loc[df71.Entity == n, 'Solar_Generation_TWh'])])\n",
    "    dfSolar = pd.DataFrame(solar)\n",
    "    dfSolar.sort_values(by = 1, ascending = False, inplace = True)\n",
    "    return dfSolar.iloc[0,0]\n",
    "    #return 'Funcion incompleta'"
   ]
  },
  {
   "cell_type": "code",
   "execution_count": 440,
   "metadata": {},
   "outputs": [
    {
     "name": "stdout",
     "output_type": "stream",
     "text": [
      "Mexico\n"
     ]
    }
   ],
   "source": [
    "print(Ret_Pregunta07())"
   ]
  },
  {
   "cell_type": "code",
   "execution_count": 258,
   "metadata": {},
   "outputs": [],
   "source": [
    "def Ret_Pregunta08():\n",
    "    '''\n",
    "    Debes utilizar Pandas para ingestar en un objeto Dataframe el contenido del archivo provisto\n",
    "    \"Fuentes_Consumo_Energia.csv\".\n",
    "    Esta función debe informar la cantidad de entidades diferentes que están presentes en el dataset, retornando ese valor en un dato de tipo entero.\n",
    "    '''\n",
    "    #Tu código aca:\n",
    "    df8 = pd.read_csv('datasets\\Fuentes_Consumo_Energia.csv',encoding='utf-8')\n",
    "    '''\n",
    "    df81 = df8['Entity']\n",
    "    df81.drop_duplicates(inplace = True)\n",
    "    return df81.count()\n",
    "    '''\n",
    "    return df8['Entity'].drop_duplicates().count()\n",
    "\n"
   ]
  },
  {
   "cell_type": "code",
   "execution_count": 259,
   "metadata": {},
   "outputs": [
    {
     "name": "stdout",
     "output_type": "stream",
     "text": [
      "100\n"
     ]
    }
   ],
   "source": [
    "print(Ret_Pregunta08())"
   ]
  },
  {
   "cell_type": "code",
   "execution_count": 331,
   "metadata": {},
   "outputs": [],
   "source": [
    "def Ret_Pregunta09():\n",
    "    '''\n",
    "    Debes utilizar Pandas para ingestar en un objeto Dataframe el contenido del archivo provisto\n",
    "    \"datasets/Tabla1_ejercicio.csv\" y \"datasets/Tabla2_ejercicio.csv\".\n",
    "    Esta función debe retornar: score_promedio_femenino y score_promedio_masculino en formato tupla, teniendo en cuenta que no debe haber registros repetidos.\n",
    "    '''\n",
    "    #Tu código aca:\n",
    "    df91 = pd.read_csv('datasets\\Tabla1_ejercicio.csv', delimiter = ';', encoding='utf-8')\n",
    "    df91.drop_duplicates(inplace = True)\n",
    "    df92 = pd.read_csv('datasets\\Tabla2_ejercicio.csv', delimiter = ';',encoding='utf-8')\n",
    "    df91.drop_duplicates(inplace = True)   \n",
    "    df9Pers = df92.values\n",
    "    df9Pers = df9Pers[:,0]\n",
    "    for elemento in df9Pers:\n",
    "        sexodf1 = ((df91.loc[df91['pers_id'] == elemento,'sexo']).values[0])\n",
    "        df92.loc[df92['pers_id'] == elemento,'Sexo'] = sexodf1\n",
    "    df92f = df92.loc[df92['Sexo'] == 'F']\n",
    "    df92m = df92.loc[df92['Sexo'] == 'M']\n",
    "    dff = df92f.mean()\n",
    "    dfm = df92m.mean()\n",
    "    dff = round(float(dff[2]),2)\n",
    "    dfm = round(float(dfm[2]),2)\n",
    "    tupla = (dff, dfm)\n",
    "    return tupla\n"
   ]
  },
  {
   "cell_type": "code",
   "execution_count": 332,
   "metadata": {},
   "outputs": [
    {
     "ename": "InvalidIndexError",
     "evalue": "(slice(None, None, None), slice(None, None, None))",
     "output_type": "error",
     "traceback": [
      "\u001b[1;31m---------------------------------------------------------------------------\u001b[0m",
      "\u001b[1;31mTypeError\u001b[0m                                 Traceback (most recent call last)",
      "File \u001b[1;32mc:\\Users\\mhcor\\anaconda3\\lib\\site-packages\\pandas\\core\\indexes\\base.py:3621\u001b[0m, in \u001b[0;36mIndex.get_loc\u001b[1;34m(self, key, method, tolerance)\u001b[0m\n\u001b[0;32m   3620\u001b[0m \u001b[39mtry\u001b[39;00m:\n\u001b[1;32m-> 3621\u001b[0m     \u001b[39mreturn\u001b[39;00m \u001b[39mself\u001b[39;49m\u001b[39m.\u001b[39;49m_engine\u001b[39m.\u001b[39;49mget_loc(casted_key)\n\u001b[0;32m   3622\u001b[0m \u001b[39mexcept\u001b[39;00m \u001b[39mKeyError\u001b[39;00m \u001b[39mas\u001b[39;00m err:\n",
      "File \u001b[1;32mc:\\Users\\mhcor\\anaconda3\\lib\\site-packages\\pandas\\_libs\\index.pyx:136\u001b[0m, in \u001b[0;36mpandas._libs.index.IndexEngine.get_loc\u001b[1;34m()\u001b[0m\n",
      "File \u001b[1;32mc:\\Users\\mhcor\\anaconda3\\lib\\site-packages\\pandas\\_libs\\index.pyx:142\u001b[0m, in \u001b[0;36mpandas._libs.index.IndexEngine.get_loc\u001b[1;34m()\u001b[0m\n",
      "\u001b[1;31mTypeError\u001b[0m: '(slice(None, None, None), slice(None, None, None))' is an invalid key",
      "\nDuring handling of the above exception, another exception occurred:\n",
      "\u001b[1;31mInvalidIndexError\u001b[0m                         Traceback (most recent call last)",
      "\u001b[1;32me:\\Henry\\Data_Science\\Checkpoint\\M1\\CP02_08_02\\check.ipynb Celda 18\u001b[0m in \u001b[0;36m<cell line: 1>\u001b[1;34m()\u001b[0m\n\u001b[1;32m----> <a href='vscode-notebook-cell:/e%3A/Henry/Data_Science/Checkpoint/M1/CP02_08_02/check.ipynb#X23sZmlsZQ%3D%3D?line=0'>1</a>\u001b[0m \u001b[39mprint\u001b[39m(Ret_Pregunta09())\n",
      "\u001b[1;32me:\\Henry\\Data_Science\\Checkpoint\\M1\\CP02_08_02\\check.ipynb Celda 18\u001b[0m in \u001b[0;36mRet_Pregunta09\u001b[1;34m()\u001b[0m\n\u001b[0;32m     <a href='vscode-notebook-cell:/e%3A/Henry/Data_Science/Checkpoint/M1/CP02_08_02/check.ipynb#X23sZmlsZQ%3D%3D?line=26'>27</a>\u001b[0m df93 \u001b[39m=\u001b[39m df92\u001b[39m.\u001b[39mgroupby(\u001b[39m'\u001b[39m\u001b[39mSexo\u001b[39m\u001b[39m'\u001b[39m)\u001b[39m.\u001b[39mmean()\n\u001b[0;32m     <a href='vscode-notebook-cell:/e%3A/Henry/Data_Science/Checkpoint/M1/CP02_08_02/check.ipynb#X23sZmlsZQ%3D%3D?line=27'>28</a>\u001b[0m \u001b[39m# print(df93.index)\u001b[39;00m\n\u001b[0;32m     <a href='vscode-notebook-cell:/e%3A/Henry/Data_Science/Checkpoint/M1/CP02_08_02/check.ipynb#X23sZmlsZQ%3D%3D?line=28'>29</a>\u001b[0m \u001b[39m# print(df93.columns)\u001b[39;00m\n\u001b[1;32m---> <a href='vscode-notebook-cell:/e%3A/Henry/Data_Science/Checkpoint/M1/CP02_08_02/check.ipynb#X23sZmlsZQ%3D%3D?line=29'>30</a>\u001b[0m f \u001b[39m=\u001b[39m df93\u001b[39m.\u001b[39;49mloc[[\u001b[39m'\u001b[39;49m\u001b[39mF\u001b[39;49m\u001b[39m'\u001b[39;49m],[\u001b[39m'\u001b[39;49m\u001b[39mscore\u001b[39;49m\u001b[39m'\u001b[39;49m]][::,::]\n\u001b[0;32m     <a href='vscode-notebook-cell:/e%3A/Henry/Data_Science/Checkpoint/M1/CP02_08_02/check.ipynb#X23sZmlsZQ%3D%3D?line=30'>31</a>\u001b[0m \u001b[39mprint\u001b[39m(f)\n\u001b[0;32m     <a href='vscode-notebook-cell:/e%3A/Henry/Data_Science/Checkpoint/M1/CP02_08_02/check.ipynb#X23sZmlsZQ%3D%3D?line=31'>32</a>\u001b[0m \u001b[39mreturn\u001b[39;00m (f)\n",
      "File \u001b[1;32mc:\\Users\\mhcor\\anaconda3\\lib\\site-packages\\pandas\\core\\frame.py:3505\u001b[0m, in \u001b[0;36mDataFrame.__getitem__\u001b[1;34m(self, key)\u001b[0m\n\u001b[0;32m   3503\u001b[0m \u001b[39mif\u001b[39;00m \u001b[39mself\u001b[39m\u001b[39m.\u001b[39mcolumns\u001b[39m.\u001b[39mnlevels \u001b[39m>\u001b[39m \u001b[39m1\u001b[39m:\n\u001b[0;32m   3504\u001b[0m     \u001b[39mreturn\u001b[39;00m \u001b[39mself\u001b[39m\u001b[39m.\u001b[39m_getitem_multilevel(key)\n\u001b[1;32m-> 3505\u001b[0m indexer \u001b[39m=\u001b[39m \u001b[39mself\u001b[39;49m\u001b[39m.\u001b[39;49mcolumns\u001b[39m.\u001b[39;49mget_loc(key)\n\u001b[0;32m   3506\u001b[0m \u001b[39mif\u001b[39;00m is_integer(indexer):\n\u001b[0;32m   3507\u001b[0m     indexer \u001b[39m=\u001b[39m [indexer]\n",
      "File \u001b[1;32mc:\\Users\\mhcor\\anaconda3\\lib\\site-packages\\pandas\\core\\indexes\\base.py:3628\u001b[0m, in \u001b[0;36mIndex.get_loc\u001b[1;34m(self, key, method, tolerance)\u001b[0m\n\u001b[0;32m   3623\u001b[0m         \u001b[39mraise\u001b[39;00m \u001b[39mKeyError\u001b[39;00m(key) \u001b[39mfrom\u001b[39;00m \u001b[39merr\u001b[39;00m\n\u001b[0;32m   3624\u001b[0m     \u001b[39mexcept\u001b[39;00m \u001b[39mTypeError\u001b[39;00m:\n\u001b[0;32m   3625\u001b[0m         \u001b[39m# If we have a listlike key, _check_indexing_error will raise\u001b[39;00m\n\u001b[0;32m   3626\u001b[0m         \u001b[39m#  InvalidIndexError. Otherwise we fall through and re-raise\u001b[39;00m\n\u001b[0;32m   3627\u001b[0m         \u001b[39m#  the TypeError.\u001b[39;00m\n\u001b[1;32m-> 3628\u001b[0m         \u001b[39mself\u001b[39;49m\u001b[39m.\u001b[39;49m_check_indexing_error(key)\n\u001b[0;32m   3629\u001b[0m         \u001b[39mraise\u001b[39;00m\n\u001b[0;32m   3631\u001b[0m \u001b[39m# GH#42269\u001b[39;00m\n",
      "File \u001b[1;32mc:\\Users\\mhcor\\anaconda3\\lib\\site-packages\\pandas\\core\\indexes\\base.py:5637\u001b[0m, in \u001b[0;36mIndex._check_indexing_error\u001b[1;34m(self, key)\u001b[0m\n\u001b[0;32m   5633\u001b[0m \u001b[39mdef\u001b[39;00m \u001b[39m_check_indexing_error\u001b[39m(\u001b[39mself\u001b[39m, key):\n\u001b[0;32m   5634\u001b[0m     \u001b[39mif\u001b[39;00m \u001b[39mnot\u001b[39;00m is_scalar(key):\n\u001b[0;32m   5635\u001b[0m         \u001b[39m# if key is not a scalar, directly raise an error (the code below\u001b[39;00m\n\u001b[0;32m   5636\u001b[0m         \u001b[39m# would convert to numpy arrays and raise later any way) - GH29926\u001b[39;00m\n\u001b[1;32m-> 5637\u001b[0m         \u001b[39mraise\u001b[39;00m InvalidIndexError(key)\n",
      "\u001b[1;31mInvalidIndexError\u001b[0m: (slice(None, None, None), slice(None, None, None))"
     ]
    }
   ],
   "source": [
    "print(Ret_Pregunta09())"
   ]
  },
  {
   "cell_type": "code",
   "execution_count": 821,
   "metadata": {},
   "outputs": [],
   "source": [
    "def Ret_Pregunta10(lista):\n",
    "    '''\n",
    "    Esta función recibe como parámetro un objeto de la clase Lista() definida en el archivo Lista.py. Debe recorrer la lista y retornan la cantidad de nodos que posee. Utilizar el método de la clase\n",
    "    Lista llamado getCabecera()\n",
    "    Ejemplo:\n",
    "        lis = Lista()\n",
    "        lista.agregarElemento(1)\n",
    "        lista.agregarElemento(2)\n",
    "        lista.agregarElemento(3)\n",
    "        print(Ret_Pregunta10(lista))\n",
    "            3    -> Debe ser el valor devuelto por la función Ret_Pregunta10() en este ejemplo\n",
    "    '''\n",
    "    return lista.contarElementos()\n",
    "    #Tu código aca:\n",
    "class Nodo():\n",
    "    def __init__(self, dato):\n",
    "        self.__dato = dato\n",
    "        self.__siguiente = None\n",
    "\n",
    "    def getDato(self):\n",
    "        return self.__dato\n",
    "\n",
    "    def getSiguiente(self):\n",
    "        return self.__siguiente\n",
    "\n",
    "    def setDato(self, val):\n",
    "        self.__dato = val\n",
    "\n",
    "    def setSiguiente(self, val):\n",
    "        self.__siguiente = val\n",
    "\n",
    "class Lista():\n",
    "    def __init__(self):\n",
    "        self.__cabecera = None\n",
    "\n",
    "    def agregarElemento(self,dato):\n",
    "        if (self.__cabecera != None):\n",
    "            puntero = self.__cabecera\n",
    "            while(puntero != None):\n",
    "                if(puntero.getSiguiente() == None):\n",
    "                    puntero.setSiguiente(Nodo(dato))\n",
    "                    break\n",
    "                puntero = puntero.getSiguiente()\n",
    "        else:\n",
    "            self.__cabecera = Nodo(dato)\n",
    "\n",
    "    def contarElementos(self):\n",
    "        if (self.__cabecera == None):\n",
    "            return 0\n",
    "        else:\n",
    "            contador = 1\n",
    "            puntero = self.__cabecera\n",
    "            while(puntero.getSiguiente() != None):\n",
    "                contador += 1\n",
    "                puntero = puntero.getSiguiente()\n",
    "            return contador\n",
    "\n",
    "    def getCabecera(self):\n",
    "        return self.__cabecera\n"
   ]
  },
  {
   "cell_type": "code",
   "execution_count": 822,
   "metadata": {},
   "outputs": [
    {
     "name": "stdout",
     "output_type": "stream",
     "text": [
      "3\n"
     ]
    }
   ],
   "source": [
    "lis = Lista()\n",
    "lis.agregarElemento(1)\n",
    "lis.agregarElemento(2)\n",
    "lis.agregarElemento(3)\n",
    "print(Ret_Pregunta10(lis))\n"
   ]
  }
 ],
 "metadata": {
  "kernelspec": {
   "display_name": "base",
   "language": "python",
   "name": "python3"
  },
  "language_info": {
   "codemirror_mode": {
    "name": "ipython",
    "version": 3
   },
   "file_extension": ".py",
   "mimetype": "text/x-python",
   "name": "python",
   "nbconvert_exporter": "python",
   "pygments_lexer": "ipython3",
   "version": "3.9.12"
  },
  "orig_nbformat": 4,
  "vscode": {
   "interpreter": {
    "hash": "c535bb3247b52e19c60266d6d21e8936de906900d582b8f04b76ce563c6653ef"
   }
  }
 },
 "nbformat": 4,
 "nbformat_minor": 2
}

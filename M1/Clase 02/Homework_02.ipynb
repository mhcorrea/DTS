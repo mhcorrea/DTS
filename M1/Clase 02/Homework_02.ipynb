{
 "cells": [
  {
   "cell_type": "markdown",
   "metadata": {},
   "source": [
    "# Práctica Clase 2"
   ]
  },
  {
   "cell_type": "markdown",
   "metadata": {},
   "source": [
    "1) Abrir el archivo \"Emisiones_CO2.csv\" y cargar sus datos en un diccionario."
   ]
  },
  {
   "cell_type": "code",
   "execution_count": 15,
   "metadata": {},
   "outputs": [],
   "source": [
    "import os\n",
    "archivo = open('Emisiones_CO2.csv', 'r')"
   ]
  },
  {
   "cell_type": "code",
   "execution_count": 14,
   "metadata": {},
   "outputs": [],
   "source": [
    "archivo.close()"
   ]
  },
  {
   "cell_type": "code",
   "execution_count": null,
   "metadata": {},
   "outputs": [],
   "source": [
    "dicc_emisiones = {  'cod_pais' : [],\n",
    "                    'nom_pais' : [],\n",
    "                    'region' : [],\n",
    "                    'anio' : [],\n",
    "                    'co2' : [],\n",
    "                    'co2_percapita' : []}\n",
    "\n",
    "next(archivo)\n",
    "for linea in archivo:\n",
    "    linea = linea.strip()\n",
    "    campos = linea.split('|')\n",
    "    dicc_emisiones['cod_pais'].append(campos[0])\n",
    "    dicc_emisiones['nom_pais'].append(campos[1])\n",
    "    dicc_emisiones['region'].append(campos[2])\n",
    "    dicc_emisiones['anio'].append(campos[3])\n",
    "    dicc_emisiones['co2'].append(campos[4])\n",
    "    dicc_emisiones['co2_percapita'].append(campos[5])\n",
    "\n",
    "dicc_emisiones\n"
   ]
  },
  {
   "cell_type": "code",
   "execution_count": null,
   "metadata": {},
   "outputs": [],
   "source": [
    "archivo.close()"
   ]
  },
  {
   "cell_type": "markdown",
   "metadata": {},
   "source": [
    "2) a) ¿Cuántas variables hay? <br>\n",
    "b) ¿Qué tipos de datos usar para cada una? <br>\n",
    "c) ¿Qué tipo de variables son? <br>\n",
    "d) ¿Hay valores faltantes? <br>\n",
    "e) ¿Cuál es el total de emisiones de CO2 para 'América Latina y Caribe' en el año 2010?"
   ]
  },
  {
   "cell_type": "code",
   "execution_count": 31,
   "metadata": {},
   "outputs": [
    {
     "name": "stdout",
     "output_type": "stream",
     "text": [
      "La cantidad de variables son: 6\n"
     ]
    }
   ],
   "source": [
    "#2.a)\n",
    "\n",
    "variables = dicc_emisiones.keys()\n",
    "#print(variables)\n",
    "print(f'La cantidad de variables son: {len(variables)}')"
   ]
  },
  {
   "cell_type": "code",
   "execution_count": null,
   "metadata": {},
   "outputs": [],
   "source": [
    "#2.b)\n",
    "for indice, elemento in enumerate(dicc_emisiones['co2']):\n",
    "    if type(elemento) == str:\n",
    "        elemento = elemento.replace('.','')\n",
    "        elemento = elemento.replace(',','.')\n",
    "        if elemento != '':\n",
    "            elemento = float(elemento)\n",
    "        else:\n",
    "            elemento = None\n",
    "        dicc_emisiones['co2'][indice] = elemento\n",
    "    print(elemento)\n",
    "\n",
    "for indice, elemento in enumerate(dicc_emisiones['co2_percapita']):\n",
    "    if type(elemento) == str:\n",
    "        elemento = elemento.replace('.','')\n",
    "        elemnto = elemento.replace(',','.')\n",
    "        if elemento != '':\n",
    "            elemento = float(elemento)\n",
    "        else:\n",
    "            elemento = None\n",
    "        dicc_emisiones['co2_percapita'][indice] = elemento\n",
    "    "
   ]
  },
  {
   "cell_type": "code",
   "execution_count": null,
   "metadata": {},
   "outputs": [],
   "source": [
    "#2.c)\n",
    "print('Los tipos de variable son:')\n",
    "print('Para cod_pais: categórica')\n",
    "print('Para nom_pais: cualitativo categórica')\n",
    "print('Para region: cualitativo categórica')\n",
    "print('Para anio: cualitativo ordinal')\n",
    "print('Para co2: cuantitativo continuo')\n",
    "print('Para co2_percápita: cuantitativo continuo')"
   ]
  },
  {
   "cell_type": "code",
   "execution_count": 69,
   "metadata": {},
   "outputs": [
    {
     "name": "stdout",
     "output_type": "stream",
     "text": [
      "Para cod_pais hay 0 valores nulos\n",
      "Para nom_pais hay 0 valores nulos\n",
      "Para region hay 0 valores nulos\n",
      "Para anio hay 0 valores nulos\n",
      "Para co2 hay 2095 valores nulos\n",
      "Para co2_percapita hay 2098 valores nulos\n"
     ]
    }
   ],
   "source": [
    "#2.d)\n",
    "def valoresNulos(dicc, item):\n",
    "    nulos = 0\n",
    "    for indice, elemento in enumerate(dicc_emisiones[item]):\n",
    "        if elemento == '' or elemento == None:\n",
    "            elemento = None\n",
    "            nulos += 1\n",
    "    return nulos\n",
    "\n",
    "it = 'cod_pais'\n",
    "print(f'Para cod_pais hay {valoresNulos(dicc_emisiones, it)} valores nulos')\n",
    "it = 'nom_pais'\n",
    "print(f'Para nom_pais hay {valoresNulos(dicc_emisiones, it)} valores nulos')\n",
    "it = 'region'\n",
    "print(f'Para region hay {valoresNulos(dicc_emisiones, it)} valores nulos')\n",
    "it = 'anio'\n",
    "print(f'Para anio hay {valoresNulos(dicc_emisiones, it)} valores nulos')\n",
    "it = 'co2'\n",
    "print(f'Para co2 hay {valoresNulos(dicc_emisiones, it)} valores nulos')\n",
    "it = 'co2_percapita'\n",
    "print(f'Para co2_percapita hay {valoresNulos(dicc_emisiones, it)} valores nulos')"
   ]
  },
  {
   "cell_type": "code",
   "execution_count": 72,
   "metadata": {},
   "outputs": [
    {
     "name": "stdout",
     "output_type": "stream",
     "text": [
      "La cantidad de emisión en la región América Latina y Caribe para el año 2010 fue de 1691634.8009999995\n"
     ]
    }
   ],
   "source": [
    "#2.e)\n",
    "reg = 'América Latina y Caribe'\n",
    "ani = '2010'\n",
    "emision = 0\n",
    "for indice, elemento in enumerate(dicc_emisiones['region']):\n",
    "    if dicc_emisiones['region'][indice] == reg:\n",
    "        if dicc_emisiones['anio'][indice] == ani:\n",
    "            if dicc_emisiones['co2'][indice] != None:\n",
    "                emision += dicc_emisiones['co2'][indice]\n",
    "print(f'La cantidad de emisión en la región {reg} para el año {ani} fue de {emision}')"
   ]
  }
 ],
 "metadata": {
  "kernelspec": {
   "display_name": "Python 3.10.6 64-bit",
   "language": "python",
   "name": "python3"
  },
  "language_info": {
   "codemirror_mode": {
    "name": "ipython",
    "version": 3
   },
   "file_extension": ".py",
   "mimetype": "text/x-python",
   "name": "python",
   "nbconvert_exporter": "python",
   "pygments_lexer": "ipython3",
   "version": "3.10.6"
  },
  "orig_nbformat": 4,
  "vscode": {
   "interpreter": {
    "hash": "26de051ba29f2982a8de78e945f0abaf191376122a1563185a90213a26c5da77"
   }
  }
 },
 "nbformat": 4,
 "nbformat_minor": 2
}
